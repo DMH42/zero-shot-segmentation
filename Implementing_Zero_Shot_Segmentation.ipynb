{
  "cells": [
    {
      "cell_type": "code",
      "source": [
        "!pip install kaggle\n",
        "!mkdir -p /root/.config/kaggle\n",
        "!sudo cp kaggle.json ~/.config/kaggle/\n",
        "!sudo chmod 600 ~/.config/kaggle/kaggle.json"
      ],
      "metadata": {
        "id": "CdTY_LrPh0M1"
      },
      "id": "CdTY_LrPh0M1",
      "execution_count": null,
      "outputs": []
    },
    {
      "cell_type": "code",
      "source": [
        "!kaggle datasets download -d tapakah68/segmentation-full-body-mads-dataset\n",
        "!unzip segmentation-full-body-mads-dataset.zip"
      ],
      "metadata": {
        "id": "e9eKFmB8JeIJ"
      },
      "id": "e9eKFmB8JeIJ",
      "execution_count": null,
      "outputs": []
    },
    {
      "cell_type": "code",
      "source": [
        "!pip install -U git+https://github.com/luca-medeiros/lang-segment-anything.git"
      ],
      "metadata": {
        "id": "KYppJAvWj7Qp"
      },
      "id": "KYppJAvWj7Qp",
      "execution_count": null,
      "outputs": []
    },
    {
      "cell_type": "code",
      "source": [
        "from PIL import Image\n",
        "from lang_sam import LangSAM\n",
        "import numpy as np\n",
        "import os\n",
        "import matplotlib.pyplot as plt\n",
        "import kaggle\n",
        "import cv2\n",
        "\n",
        "model = LangSAM()\n",
        "text_prompt = \"person.\""
      ],
      "metadata": {
        "id": "Fgodmg9rkNeg"
      },
      "id": "Fgodmg9rkNeg",
      "execution_count": null,
      "outputs": []
    },
    {
      "cell_type": "code",
      "source": [
        "def intersection_over_union_metric(predicted_mask, true_mask):\n",
        "    predicted_mask = predicted_mask.astype(bool)\n",
        "    true_mask = true_mask.astype(bool)\n",
        "    intersection = np.logical_and(predicted_mask, true_mask).sum()\n",
        "    union = np.logical_or(predicted_mask, true_mask).sum()\n",
        "    if union == 0:\n",
        "        return 0.0\n",
        "    iou = intersection / union\n",
        "    return iou"
      ],
      "metadata": {
        "id": "nHE9z-cvnGfq"
      },
      "id": "nHE9z-cvnGfq",
      "execution_count": 8,
      "outputs": []
    },
    {
      "cell_type": "code",
      "source": [
        "def get_contour_mask(true_mask_np):\n",
        "    h, w = true_mask_np.shape[-2:]\n",
        "    temp_mask = true_mask_np.astype(np.uint8)\n",
        "    mask_image =  temp_mask.reshape(h, w)\n",
        "    contours, _ = cv2.findContours(temp_mask,cv2.RETR_EXTERNAL, cv2.CHAIN_APPROX_NONE)\n",
        "    # Try to smooth contours\n",
        "    contours = [cv2.approxPolyDP(contour, epsilon=0.01, closed=True) for contour in contours]\n",
        "    zero_mask = np.zeros((h, w), dtype=float)\n",
        "    final_contours = cv2.drawContours(zero_mask, contours, -1, (1, 1, 1, 0.5), thickness=3)\n",
        "    return np.logical_and(final_contours, true_mask_np)\n",
        "\n",
        "\n",
        "# discounts the contour by the threshold\n",
        "def modified_IOU(predicted_mask, true_mask, threshold = 0.1):\n",
        "    predicted_mask = predicted_mask.astype(bool)\n",
        "    true_mask = true_mask.astype(bool)\n",
        "    contour = get_contour_mask(true_mask)\n",
        "    union = np.logical_or(predicted_mask, true_mask).sum() - (threshold * np.logical_and(true_mask, contour).sum())\n",
        "    # intersection = max(0, np.logical_and(predicted_mask, true_mask).sum() - (threshold * np.logical_and(true_mask, contour).sum()))\n",
        "    intersection = np.logical_and(predicted_mask, true_mask).sum()\n",
        "    if union <= 0:\n",
        "        return 0.0\n",
        "    iou = intersection / union\n",
        "    return iou"
      ],
      "metadata": {
        "id": "Ve1TDrpZB3ON"
      },
      "id": "Ve1TDrpZB3ON",
      "execution_count": 22,
      "outputs": []
    },
    {
      "cell_type": "code",
      "source": [
        "def evaluate_model_on_test_set(test_images_dir='./test_images',\n",
        "                                test_masks_dir='./test_masks',\n",
        "                                text_prompt=\"person.\",\n",
        "                                evaluation_function=intersection_over_union_metric\n",
        "                                ):\n",
        "    iou_results = []\n",
        "\n",
        "    # Ensure the directories exist\n",
        "    if not os.path.exists(test_images_dir):\n",
        "        print(f\"Test images directory not found: {test_images_dir}\")\n",
        "    elif not os.path.exists(test_masks_dir):\n",
        "        print(f\"Test masks directory not found: {test_masks_dir}\")\n",
        "    else:\n",
        "        image_files = [f for f in os.listdir(test_images_dir) if f.endswith(('.png', '.jpg', '.jpeg'))]\n",
        "\n",
        "        for image_file in image_files:\n",
        "            image_path = os.path.join(test_images_dir, image_file)\n",
        "            mask_file = image_file # Assuming the mask file has the same name as the image file\n",
        "            mask_path = os.path.join(test_masks_dir, mask_file)\n",
        "\n",
        "            if not os.path.exists(mask_path):\n",
        "                print(f\"Ground truth mask not found for {image_file}\")\n",
        "                continue\n",
        "\n",
        "            try:\n",
        "              # Load the image\n",
        "              image_pil = Image.open(image_path).convert(\"RGB\")\n",
        "              image_np = np.array(image_pil)\n",
        "\n",
        "              # Load the ground truth mask\n",
        "              # Assuming the ground truth mask is a grayscale image where the wound is white (255) and background is black (0)\n",
        "              true_mask_pil = Image.open(mask_path).convert(\"L\")\n",
        "              true_mask_np = np.array(true_mask_pil) > 0 # Convert to boolean mask\n",
        "              # Predict the mask using LangSAM\n",
        "              # LangSAM expects a list of images and a list of prompts\n",
        "              result = model.predict([image_pil], [text_prompt])\n",
        "              scores = result[0]['scores'] # float array\n",
        "              boxes = result[0]['boxes']\n",
        "              masks = result[0]['masks']\n",
        "              masks_scores = result[0]['mask_scores'] # float array\n",
        "\n",
        "              if len(masks) == 0:\n",
        "                  print(f\"No Prediction found for {image_file}\")\n",
        "                  iou_results.append({'image': image_file, 'iou': np.nan})\n",
        "                  continue\n",
        "\n",
        "              if masks is not None and not(isinstance(masks, list)):\n",
        "                  if masks_scores.ndim == 0:\n",
        "                      masks_scores = [masks_scores.item()]\n",
        "                  if scores.ndim == 0:\n",
        "                      scores = [scores.item()]\n",
        "\n",
        "                  # LangSAM masks are shape [num_masks, H, W]\n",
        "                  max_index = 0\n",
        "                  for i, predicted_mask in enumerate(masks):\n",
        "                      # find the mask that has the highest score\n",
        "                      if masks_scores[max_index] < masks_scores[i]:\n",
        "                        if scores[max_index] < scores[i]:\n",
        "                          max_index = i\n",
        "\n",
        "                  predicted_mask_np = masks[max_index]\n",
        "                  result_iou = evaluation_function(predicted_mask_np, true_mask_np)\n",
        "\n",
        "              iou_results.append({'image': image_file, 'iou': result_iou})\n",
        "              print(f\"Processed {image_file}, IoU: {result_iou:.4f}\")\n",
        "            except Exception as e:\n",
        "                print(f\"Error processing {image_file}: {e}\")\n",
        "                iou_results.append({'image': image_file, 'iou': np.nan}) # Append NaN for errors\n",
        "\n",
        "    # Print average IoU\n",
        "    if len(iou_results) > 0:\n",
        "        average_iou = np.nanmean([res['iou'] for res in iou_results])\n",
        "        print(f\"\\nAverage IoU across test set: {average_iou:.4f}\")\n",
        "    else:\n",
        "        print(\"No images were processed.\")\n",
        "\n",
        "    return iou_results\n"
      ],
      "metadata": {
        "id": "41iLCJgKKfVh"
      },
      "id": "41iLCJgKKfVh",
      "execution_count": 20,
      "outputs": []
    },
    {
      "cell_type": "code",
      "source": [
        "test_images_dir = './segmentation_full_body_mads_dataset_1192_img/segmentation_full_body_mads_dataset_1192_img/images'\n",
        "test_masks_dir = './segmentation_full_body_mads_dataset_1192_img/segmentation_full_body_mads_dataset_1192_img/masks'\n",
        "text_prompt = \"person.\"\n",
        "\n",
        "iou_results = evaluate_model_on_test_set(test_images_dir, test_masks_dir, text_prompt, modified_IOU)\n"
      ],
      "metadata": {
        "id": "ru5p1w9FK09I"
      },
      "id": "ru5p1w9FK09I",
      "execution_count": null,
      "outputs": []
    },
    {
      "cell_type": "code",
      "source": [
        "# Sort the iou_results by IoU in ascending order\n",
        "sorted_iou_results = sorted(iou_results, key=lambda x: x['iou'])\n",
        "\n",
        "# Get the lowest values and their corresponding image names\n",
        "lowest_iou_results = sorted_iou_results[:20] # Get the bottom 10\n",
        "\n",
        "print(\"Lowest IoU values and corresponding image names:\")\n",
        "for result in lowest_iou_results:\n",
        "  print(f\"Image: {result['image']}, IoU: {result['iou']:.4f}\")"
      ],
      "metadata": {
        "id": "9sWDjvCLEveo"
      },
      "id": "9sWDjvCLEveo",
      "execution_count": null,
      "outputs": []
    },
    {
      "cell_type": "code",
      "source": [
        "iou_scores = [res['iou'] for res in iou_results if not np.isnan(res['iou'])]\n",
        "\n",
        "if len(iou_scores) >= 0:\n",
        "    plt.figure(figsize=(10, 6))\n",
        "    plt.hist(iou_scores, bins=25, edgecolor='black')\n",
        "    plt.title('Distribution of IoU Scores on Test Set')\n",
        "    plt.xlabel('IoU Score')\n",
        "    plt.ylabel('Frequency')\n",
        "    plt.grid(axis='y', alpha=0.75)\n",
        "    plt.show()\n",
        "else:\n",
        "    print(\"No valid IoU scores available to plot the histogram.\")"
      ],
      "metadata": {
        "id": "aJ_msGuP3I90",
        "outputId": "bc1c8159-58db-4fad-e172-e9f43338c0d4",
        "colab": {
          "base_uri": "https://localhost:8080/",
          "height": 564
        }
      },
      "id": "aJ_msGuP3I90",
      "execution_count": 24,
      "outputs": [
        {
          "output_type": "display_data",
          "data": {
            "text/plain": [
              "<Figure size 1000x600 with 1 Axes>"
            ],
            "image/png": "[encoded data removed]"
          },
          "metadata": {}
        }
      ]
    },
    {
      "cell_type": "code",
      "source": [
        "# Compute average IoU\n",
        "if len(iou_results) > 0:\n",
        "    # Filter out NaN values before computing the mean\n",
        "    valid_ious = [res['iou'] for res in iou_results if not np.isnan(res['iou'])]\n",
        "    if len(valid_ious) > 0:\n",
        "        average_iou = np.mean(valid_ious)\n",
        "        print(f\"\\nAverage IoU across test set: {average_iou:.4f}\")\n",
        "    else:\n",
        "        print(\"No valid IoU results were computed.\")\n",
        "else:\n",
        "    print(\"No images were processed.\")\n"
      ],
      "metadata": {
        "id": "BB-cm_Ig1Lp7"
      },
      "id": "BB-cm_Ig1Lp7",
      "execution_count": null,
      "outputs": []
    },
    {
      "cell_type": "code",
      "source": [
        "def show_mask(mask, ax, random_color=False, borders = True):\n",
        "    if random_color:\n",
        "        color = np.concatenate([np.random.random(3), np.array([0.6])], axis=0)\n",
        "    else:\n",
        "        color = np.array([255/255, 144/255, 255/255, 0.6])\n",
        "    h, w = mask.shape[-2:]\n",
        "    mask = mask.astype(np.uint8)\n",
        "    mask_image =  mask.reshape(h, w, 1) * color.reshape(1, 1, -1)\n",
        "    if borders:\n",
        "        import cv2\n",
        "        contours, _ = cv2.findContours(mask,cv2.RETR_EXTERNAL, cv2.CHAIN_APPROX_NONE)\n",
        "        # Try to smooth contours\n",
        "        contours = [cv2.approxPolyDP(contour, epsilon=0.01, closed=True) for contour in contours]\n",
        "        mask_image = cv2.drawContours(mask_image, contours, -1, (1, 1, 1, 0.5), thickness=1)\n",
        "    ax.imshow(mask_image)\n",
        "\n",
        "def show_masks(image, masks, scores, point_coords=None, box_coords=None, input_labels=None, borders=True):\n",
        "    for i, (mask, score) in enumerate(zip(masks, scores)):\n",
        "        plt.figure(figsize=(10, 10))\n",
        "        plt.imshow(image)\n",
        "        show_mask(mask, plt.gca(), borders=borders)\n",
        "        if point_coords is not None:\n",
        "            assert input_labels is not None\n",
        "            show_points(point_coords, input_labels, plt.gca())\n",
        "        if box_coords is not None:\n",
        "            # boxes\n",
        "            show_box(box_coords, plt.gca())\n",
        "        if len(scores) > 1:\n",
        "            plt.title(f\"Mask {i+1}, Score: {score:.5f}\", fontsize=18)\n",
        "        plt.axis('off')\n",
        "        plt.show()"
      ],
      "metadata": {
        "id": "aFFz1FcZ12Os"
      },
      "id": "aFFz1FcZ12Os",
      "execution_count": 26,
      "outputs": []
    },
    {
      "cell_type": "code",
      "source": [
        "import cv2\n",
        "color = np.concatenate([np.random.random(3), np.array([0.6])], axis=0)\n",
        "\n",
        "h, w = true_mask_np.shape[-2:]\n",
        "temp_mask = true_mask_np.astype(np.uint8)\n",
        "mask_image =  temp_mask.reshape(h, w, 1) * color.reshape(1, 1, -1)\n",
        "contours, _ = cv2.findContours(temp_mask,cv2.RETR_EXTERNAL, cv2.CHAIN_APPROX_NONE)\n",
        "# Try to smooth contours\n",
        "contours = [cv2.approxPolyDP(contour, epsilon=0.01, closed=True) for contour in contours]\n",
        "zero_mask = np.zeros((h, w), dtype=float)\n",
        "final_contours = cv2.drawContours(zero_mask, contours, -1, (1, 1, 1, 0.5), thickness=3)\n",
        "plt.gca().imshow(final_contours)\n"
      ],
      "metadata": {
        "id": "JSXN5eOB8nj0",
        "outputId": "d27555fb-fb6d-4f18-f7be-895f9dd474db",
        "colab": {
          "base_uri": "https://localhost:8080/",
          "height": 453
        }
      },
      "id": "JSXN5eOB8nj0",
      "execution_count": 31,
      "outputs": [
        {
          "output_type": "execute_result",
          "data": {
            "text/plain": [
              "<matplotlib.image.AxesImage at 0x784d621ec650>"
            ]
          },
          "metadata": {},
          "execution_count": 31
        },
        {
          "output_type": "display_data",
          "data": {
            "text/plain": [
              "<Figure size 640x480 with 1 Axes>"
            ],
            "image/png": "[encoded data removed]"
          },
          "metadata": {}
        }
      ]
    }
  ],
  "metadata": {
    "kernelspec": {
      "display_name": "Python 3",
      "name": "python3"
    },
    "language_info": {
      "codemirror_mode": {
        "name": "ipython",
        "version": 3
      },
      "file_extension": ".py",
      "mimetype": "text/x-python",
      "name": "python",
      "nbconvert_exporter": "python",
      "pygments_lexer": "ipython3",
      "version": "3.10.14"
    },
    "colab": {
      "provenance": [],
      "gpuType": "T4"
    },
    "accelerator": "GPU"
  },
  "nbformat": 4,
  "nbformat_minor": 5
}